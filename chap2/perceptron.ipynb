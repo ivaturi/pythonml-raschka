{
 "cells": [
  {
   "cell_type": "code",
   "execution_count": 23,
   "id": "binary-anthropology",
   "metadata": {},
   "outputs": [],
   "source": [
    "import logging\n",
    "import random\n",
    "import numpy as np\n",
    "import os\n",
    "import pandas as pd\n",
    "import matplotlib.pyplot as plt\n",
    "from matplotlib.colors import ListedColormap"
   ]
  },
  {
   "cell_type": "markdown",
   "id": "coral-girlfriend",
   "metadata": {},
   "source": [
    "### A basic perceptron"
   ]
  },
  {
   "cell_type": "code",
   "execution_count": 34,
   "id": "subsequent-trout",
   "metadata": {},
   "outputs": [],
   "source": [
    "\n",
    "class Perceptron:\n",
    "    \n",
    "    def __init__(self,learning_rate = 0.1, max_epochs = 50):\n",
    "        self.learning_rate = learning_rate\n",
    "        self.max_epochs = max_epochs\n",
    "        self.random_state =1\n",
    "                        \n",
    "        # error log for training\n",
    "        self.errors_ = []\n",
    "\n",
    "    \n",
    "    def fit(self, X, y):\n",
    "        \n",
    "        # draw random numbers from a normal distribution with stddev 0.01\n",
    "        rgen = np.random.RandomState(self.random_state)\n",
    "        self.weights = rgen.normal(loc = 0.0, scale = 0.01, size = 1  + X.shape[1])\n",
    "        for _ in range(0, self.max_epochs):\n",
    "            error = 0.0\n",
    "            for x, expected in zip(X,y):\n",
    "                weight_update = self.learning_rate * (expected - self.predict_np(x))\n",
    "                self.weights[1:] += weight_update*x\n",
    "                self.weights[0] += weight_update\n",
    "                error += int(weight_update != 0.0)\n",
    "            self.errors_.append(error)\n",
    "        return self\n",
    "\n",
    "    def show_fitting_log(self):\n",
    "        if self.errors_ == []:\n",
    "            return False\n",
    "        plt.plot(range(1, len(p.errors_) + 1), p.errors_, marker = 'o')\n",
    "        plt.plot(range(1, len(p.errors_) + 1), p.errors_, marker='o')\n",
    "        plt.xlabel('Epochs')\n",
    "        plt.ylabel('Number of updates')\n",
    "        plt.show()\n",
    "    \n",
    "    def show_decision_regions(self, X, y):\n",
    "        # setup marker generator and color map\n",
    "        markers = ('s', 'x', 'o', '^', 'v')\n",
    "        colors = ('red', 'blue', 'lightgreen', 'gray', 'cyan')\n",
    "        # map colors to classes based on the number of decision classes\n",
    "        cmap = ListedColormap(colors[:len(np.unique(y))])  \n",
    "        \n",
    "        # plot the decision surface\n",
    "        \n",
    "        res = 0.02 # drawing resolution\n",
    "        \n",
    "        x1_min, x1_max = X[:,0].min() - 1, X[:,0].max() + 1\n",
    "        x2_min, x2_max = X[:,1].min() - 1, X[:,1].max() + 1\n",
    "        xx1,xx2 = np.meshgrid(np.arange(x1_min, x1_max, res),\n",
    "                              np.arange(x2_min, x2_max, res))\n",
    "        \n",
    "        Z = self.predict_np(np.array([xx1.ravel(), xx2.ravel()]).T)\n",
    "        Z = Z.reshape(xx1.shape)\n",
    "        plt.contourf(xx1, xx2, Z, alpha = 0.3, cmap=cmap)\n",
    "        plt.xlim(xx1.min(), xx1.max())\n",
    "        plt.ylim(xx2.min(), xx2.max())\n",
    "        \n",
    "        for idx,cl in enumerate(np.unique(y)):\n",
    "            plt.scatter(\n",
    "                x = X[y == cl, 0],\n",
    "                y = X[y == cl, 1],\n",
    "                alpha = 0.8,\n",
    "                c = colors[idx],\n",
    "                marker = markers[idx],\n",
    "                label = cl,\n",
    "                edgecolor = 'black'\n",
    "            )\n",
    "    \n",
    "    def predict_np(self, X):\n",
    "        return np.where(self.net_input(X) >= 0, 1, -1)\n",
    "    \n",
    "    def net_input(self, X):\n",
    "        return np.dot(X, self.weights[1:]) + self.weights[0]\n"
   ]
  },
  {
   "cell_type": "markdown",
   "id": "unlimited-holmes",
   "metadata": {},
   "source": [
    "### Iris dataset"
   ]
  },
  {
   "cell_type": "code",
   "execution_count": 4,
   "id": "minor-burlington",
   "metadata": {},
   "outputs": [
    {
     "data": {
      "text/html": [
       "<div>\n",
       "<style scoped>\n",
       "    .dataframe tbody tr th:only-of-type {\n",
       "        vertical-align: middle;\n",
       "    }\n",
       "\n",
       "    .dataframe tbody tr th {\n",
       "        vertical-align: top;\n",
       "    }\n",
       "\n",
       "    .dataframe thead th {\n",
       "        text-align: right;\n",
       "    }\n",
       "</style>\n",
       "<table border=\"1\" class=\"dataframe\">\n",
       "  <thead>\n",
       "    <tr style=\"text-align: right;\">\n",
       "      <th></th>\n",
       "      <th>0</th>\n",
       "      <th>1</th>\n",
       "      <th>2</th>\n",
       "      <th>3</th>\n",
       "      <th>4</th>\n",
       "    </tr>\n",
       "  </thead>\n",
       "  <tbody>\n",
       "    <tr>\n",
       "      <th>0</th>\n",
       "      <td>5.1</td>\n",
       "      <td>3.5</td>\n",
       "      <td>1.4</td>\n",
       "      <td>0.2</td>\n",
       "      <td>Iris-setosa</td>\n",
       "    </tr>\n",
       "    <tr>\n",
       "      <th>1</th>\n",
       "      <td>4.9</td>\n",
       "      <td>3.0</td>\n",
       "      <td>1.4</td>\n",
       "      <td>0.2</td>\n",
       "      <td>Iris-setosa</td>\n",
       "    </tr>\n",
       "    <tr>\n",
       "      <th>2</th>\n",
       "      <td>4.7</td>\n",
       "      <td>3.2</td>\n",
       "      <td>1.3</td>\n",
       "      <td>0.2</td>\n",
       "      <td>Iris-setosa</td>\n",
       "    </tr>\n",
       "    <tr>\n",
       "      <th>3</th>\n",
       "      <td>4.6</td>\n",
       "      <td>3.1</td>\n",
       "      <td>1.5</td>\n",
       "      <td>0.2</td>\n",
       "      <td>Iris-setosa</td>\n",
       "    </tr>\n",
       "    <tr>\n",
       "      <th>4</th>\n",
       "      <td>5.0</td>\n",
       "      <td>3.6</td>\n",
       "      <td>1.4</td>\n",
       "      <td>0.2</td>\n",
       "      <td>Iris-setosa</td>\n",
       "    </tr>\n",
       "  </tbody>\n",
       "</table>\n",
       "</div>"
      ],
      "text/plain": [
       "     0    1    2    3            4\n",
       "0  5.1  3.5  1.4  0.2  Iris-setosa\n",
       "1  4.9  3.0  1.4  0.2  Iris-setosa\n",
       "2  4.7  3.2  1.3  0.2  Iris-setosa\n",
       "3  4.6  3.1  1.5  0.2  Iris-setosa\n",
       "4  5.0  3.6  1.4  0.2  Iris-setosa"
      ]
     },
     "execution_count": 4,
     "metadata": {},
     "output_type": "execute_result"
    }
   ],
   "source": [
    "s = os.path.join(\"https://archive.ics.uci.edu\", \"ml\", \"machine-learning-databases\", \"iris\", \"iris.data\")\n",
    "df = pd.read_csv(s, header = None, encoding = \"utf-8\")\n",
    "df.head()"
   ]
  },
  {
   "cell_type": "markdown",
   "id": "plastic-sight",
   "metadata": {},
   "source": [
    "#### See how the data looks like"
   ]
  },
  {
   "cell_type": "code",
   "execution_count": 5,
   "id": "integral-click",
   "metadata": {},
   "outputs": [],
   "source": [
    "# 1 if the flower is iris-setosa and -1 if not\n",
    "y = df.iloc[0:100,4].values\n",
    "y = np.where(y == \"Iris-setosa\", -1, 1)\n",
    "\n",
    "# sepal length and petal length\n",
    "X = df.iloc[0:100, [0,2]].values"
   ]
  },
  {
   "cell_type": "code",
   "execution_count": 6,
   "id": "vertical-parade",
   "metadata": {},
   "outputs": [
    {
     "data": {
      "image/png": "[encoded data removed]",
      "text/plain": [
       "<Figure size 432x288 with 1 Axes>"
      ]
     },
     "metadata": {
      "needs_background": "light"
     },
     "output_type": "display_data"
    }
   ],
   "source": [
    "plt.scatter(X[:50,0], X[:50, 1], color=\"red\", marker=\"o\", label=\"setosa\")\n",
    "plt.scatter(X[50:100, 0], X[50:100, 1], color=\"blue\", marker=\"x\", label=\"versicolor\")\n",
    "plt.xlabel('sepal length (cm)')\n",
    "plt.ylabel('petal length (cm)')\n",
    "plt.legend(loc='upper left')\n",
    "plt.show()"
   ]
  },
  {
   "cell_type": "markdown",
   "id": "lesser-repair",
   "metadata": {},
   "source": [
    "### Train the perceptron model"
   ]
  },
  {
   "cell_type": "code",
   "execution_count": 35,
   "id": "usual-operations",
   "metadata": {},
   "outputs": [
    {
     "data": {
      "text/plain": [
       "<__main__.Perceptron at 0x7f89be5f9d00>"
      ]
     },
     "execution_count": 35,
     "metadata": {},
     "output_type": "execute_result"
    }
   ],
   "source": [
    "p = Perceptron(max_epochs = 10)\n",
    "p.fit(X, y)"
   ]
  },
  {
   "cell_type": "markdown",
   "id": "minute-offense",
   "metadata": {},
   "source": [
    "### Visualizing the decision boundary"
   ]
  },
  {
   "cell_type": "code",
   "execution_count": 36,
   "id": "coastal-volleyball",
   "metadata": {},
   "outputs": [
    {
     "data": {
      "image/png": "[encoded data removed]",
      "text/plain": [
       "<Figure size 432x288 with 1 Axes>"
      ]
     },
     "metadata": {
      "needs_background": "light"
     },
     "output_type": "display_data"
    }
   ],
   "source": [
    "p.show_fitting_log()"
   ]
  },
  {
   "cell_type": "code",
   "execution_count": 39,
   "id": "narrative-financing",
   "metadata": {},
   "outputs": [
    {
     "data": {
      "image/png": "[encoded data removed]",
      "text/plain": [
       "<Figure size 432x288 with 1 Axes>"
      ]
     },
     "metadata": {
      "needs_background": "light"
     },
     "output_type": "display_data"
    }
   ],
   "source": [
    "p.show_decision_regions(X,y)\n",
    "plt.xlabel('sepal length [cm]')\n",
    "plt.ylabel('petal length [cm]')\n",
    "plt.legend(loc='upper left')\n",
    "plt.show()"
   ]
  },
  {
   "cell_type": "code",
   "execution_count": null,
   "id": "ideal-borough",
   "metadata": {},
   "outputs": [],
   "source": []
  }
 ],
 "metadata": {
  "kernelspec": {
   "display_name": "ds",
   "language": "python",
   "name": "ds"
  },
  "language_info": {
   "codemirror_mode": {
    "name": "ipython",
    "version": 3
   },
   "file_extension": ".py",
   "mimetype": "text/x-python",
   "name": "python",
   "nbconvert_exporter": "python",
   "pygments_lexer": "ipython3",
   "version": "3.8.5"
  }
 },
 "nbformat": 4,
 "nbformat_minor": 5
}
