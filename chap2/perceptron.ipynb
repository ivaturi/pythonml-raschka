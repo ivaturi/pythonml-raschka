{
 "cells": [
  {
   "cell_type": "code",
   "execution_count": 65,
   "id": "sophisticated-smooth",
   "metadata": {},
   "outputs": [],
   "source": [
    "import logging\n",
    "import random"
   ]
  },
  {
   "cell_type": "code",
   "execution_count": 50,
   "id": "accessory-swimming",
   "metadata": {},
   "outputs": [],
   "source": [
    "# activation functions\n",
    "step = lambda z: 1 if z > 0 else -1\n",
    "\n",
    "# update rules\n",
    "phi_linear = lambda e, eta: e * eta\n",
    "\n",
    "# vector dot product\n",
    "def dot(x,y):\n",
    "    return sum([xi * yi for xi,yi in zip(x,y)])"
   ]
  },
  {
   "cell_type": "code",
   "execution_count": 67,
   "id": "suited-helen",
   "metadata": {},
   "outputs": [],
   "source": [
    "\n",
    "class Perceptron():\n",
    "    \n",
    "    def __init__(self,learning_rate = 0.1, max_epochs = 20, activation = step, update_rule = phi_linear, dims = 2):\n",
    "        self.learning_rate = learning_rate\n",
    "        self.max_epochs = max_epochs\n",
    "        \n",
    "        # perceptron setup\n",
    "        self.activation = activation\n",
    "        self.update_rule = update_rule\n",
    "        self.dims = dims\n",
    "        \n",
    "        # init weights\n",
    "        random.seed(0)\n",
    "        self.weights = [random.random() for _ in range(0, self.dims)]\n",
    "        self.bias = random.random()\n",
    "        \n",
    "    def predict_single(self, x):\n",
    "        net_input = dot(self.weights, x) + self.bias\n",
    "        return self.activation(net_input)\n",
    "    \n",
    "    def learn(self, X, Y):\n",
    "        \n",
    "        for _ in range(0, self.max_epochs):\n",
    "            error = 0.0\n",
    "            for x,y in zip(X,Y):\n",
    "                predicted = self.predict_single(x)\n",
    "                error += y - predicted\n",
    "                weight_update = self.update_rule(error, self.learning_rate)\n",
    "                self.bias += weight_update\n",
    "                self.weights = [wi + weight_update*xi for xi, wi in zip(x,self.weights)]\n",
    "            logging.debug(\"Iteration %d, error = %f\" % (_, error))\n",
    "    \n"
   ]
  },
  {
   "cell_type": "code",
   "execution_count": 68,
   "id": "understood-matthew",
   "metadata": {},
   "outputs": [
    {
     "data": {
      "text/plain": [
       "[0.8444218515250481, 0.7579544029403025]"
      ]
     },
     "execution_count": 68,
     "metadata": {},
     "output_type": "execute_result"
    }
   ],
   "source": [
    "p = Perceptron(max_epochs = 50)\n",
    "p.weights"
   ]
  },
  {
   "cell_type": "code",
   "execution_count": null,
   "id": "prostate-negotiation",
   "metadata": {},
   "outputs": [],
   "source": []
  }
 ],
 "metadata": {
  "kernelspec": {
   "display_name": "ds",
   "language": "python",
   "name": "ds"
  },
  "language_info": {
   "codemirror_mode": {
    "name": "ipython",
    "version": 3
   },
   "file_extension": ".py",
   "mimetype": "text/x-python",
   "name": "python",
   "nbconvert_exporter": "python",
   "pygments_lexer": "ipython3",
   "version": "3.8.5"
  }
 },
 "nbformat": 4,
 "nbformat_minor": 5
}
